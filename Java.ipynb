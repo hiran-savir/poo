{
  "nbformat": 4,
  "nbformat_minor": 0,
  "metadata": {
    "colab": {
      "provenance": [],
      "include_colab_link": true
    },
    "kernelspec": {
      "name": "java",
      "display_name": "java"
    },
    "language_info": {
      "name": "java"
    }
  },
  "cells": [
    {
      "cell_type": "markdown",
      "metadata": {
        "id": "view-in-github",
        "colab_type": "text"
      },
      "source": [
        "<a href=\"https://colab.research.google.com/github/hiran-savir/poo/blob/main/Java.ipynb\" target=\"_parent\"><img src=\"https://colab.research.google.com/assets/colab-badge.svg\" alt=\"Open In Colab\"/></a>"
      ]
    },
    {
      "cell_type": "markdown",
      "source": [
        "**Week 1: Getting Started with Java and Google Colab**\n",
        "\n",
        "Welcome to the very first lab of our module. In this lab, we will cover the following:</p>\n",
        "\n",
        "*   Google Colab and Java\n",
        "*   Hello World in Java!\n",
        "*   Real-World Scenario\n",
        "*   AI-assisted Java Programming\n",
        "* Hiran Savir\n",
        "\n"
      ],
      "metadata": {
        "id": "3k1v5Ic-DlJK"
      }
    },
    {
      "cell_type": "markdown",
      "source": [
        "### 1.0 Google Colab and Java\n",
        "\n",
        "Colaboratory (short for Colaboratory) is a product from Google Research. Colab allows anybody to write and execute arbitrary Python code through the browser, and is especially well suited to machine learning, data analysis and education. More technically, Colab is a hosted Jupyter notebook service that requires no setup to use, while providing free access to computing resources including graphics processing unit (GPU).\n",
        "\n",
        "Although geared and promoted predominantly as a tool for writing Python, we can still writing Java codes in Google Colab by adding a Java Kernel to Google Colab. If you are creating your own notebook from scratch, you will need to first replace the value (python) with java under `kernelspec.name`, `kernelspec.display_name` & `language_info.name` (*Note*: this has been done for you in this notebook).\n",
        "\n",
        "Next, we will need to run the following code in order to use [IJava](https://github.com/SpencerPark/IJava) (credit to Spencer Park) as the Jupyter Kernel (*Note*: you will need to run this everything you start the notebook).\n",
        "```\n",
        "%%sh\n",
        "# Install java kernel\n",
        "wget -q https://github.com/SpencerPark/IJava/releases/download/v1.3.0/ijava-1.3.0.zip\n",
        "unzip -q ijava-1.3.0.zip\n",
        "python install.py\n",
        "\n",
        "# Install proxy for the java kernel\n",
        "wget -qO- https://gist.github.com/SpencerPark/e2732061ad19c1afa4a33a58cb8f18a9/archive/b6cff2bf09b6832344e576ea1e4731f0fb3df10c.tar.gz | tar xvz --strip-components=1\n",
        "python install_ipc_proxy_kernel.py --kernel=java --implementation=ipc_proxy_kernel.py\n",
        "```\n",
        "\n",
        "Now let's move on to run the cell below:"
      ],
      "metadata": {
        "id": "rtNmS_HNfuo8"
      }
    },
    {
      "cell_type": "code",
      "execution_count": null,
      "metadata": {
        "id": "ycRGxVCzUD0N",
        "outputId": "4923520a-a348-41b0-bd48-7b74db80adc9",
        "colab": {
          "base_uri": "https://localhost:8080/"
        }
      },
      "outputs": [
        {
          "output_type": "stream",
          "name": "stdout",
          "text": [
            "Installed java kernel into \"/usr/local/share/jupyter/kernels/java\"\n",
            "e2732061ad19c1afa4a33a58cb8f18a9-b6cff2bf09b6832344e576ea1e4731f0fb3df10c/install_ipc_proxy_kernel.py\n",
            "e2732061ad19c1afa4a33a58cb8f18a9-b6cff2bf09b6832344e576ea1e4731f0fb3df10c/ipc_proxy_kernel.py\n",
            "Moving java kernel from /usr/local/share/jupyter/kernels/java...\n",
            "Wrote modified kernel.json for java_tcp in /usr/local/share/jupyter/kernels/java_tcp/kernel.json\n",
            "Installing the proxy kernel in place of java in /usr/local/share/jupyter/kernels/java\n",
            "Installed proxy kernelspec: {\"argv\": [\"/usr/bin/python3\", \"/usr/local/share/jupyter/kernels/java/ipc_proxy_kernel.py\", \"{connection_file}\", \"--kernel=java_tcp\"], \"env\": {}, \"display_name\": \"Java\", \"language\": \"java\", \"interrupt_mode\": \"message\", \"metadata\": {}}\n",
            "Proxy kernel installed. Go to 'Runtime > Change runtime type' and select 'java'\n"
          ]
        },
        {
          "output_type": "stream",
          "name": "stderr",
          "text": [
            "/content/install.py:164: DeprecationWarning: replace is ignored. Installing a kernelspec always replaces an existing installation\n",
            "  install_dest = KernelSpecManager().install_kernel_spec(\n"
          ]
        }
      ],
      "source": [
        "%%sh\n",
        "# Install java kernel\n",
        "wget -q https://github.com/SpencerPark/IJava/releases/download/v1.3.0/ijava-1.3.0.zip\n",
        "unzip -q ijava-1.3.0.zip\n",
        "python install.py\n",
        "\n",
        "# Install proxy for the java kernel\n",
        "wget -qO- https://gist.github.com/SpencerPark/e2732061ad19c1afa4a33a58cb8f18a9/archive/b6cff2bf09b6832344e576ea1e4731f0fb3df10c.tar.gz | tar xvz --strip-components=1\n",
        "python install_ipc_proxy_kernel.py --kernel=java --implementation=ipc_proxy_kernel.py"
      ]
    },
    {
      "cell_type": "markdown",
      "source": [
        "### 2.0 Hello World in Java!\n",
        "\n",
        "Now, we are ready to write a very basic line of code in Java. Run the cell below and observe the output."
      ],
      "metadata": {
        "id": "_wiANQZ6eLNu"
      }
    },
    {
      "cell_type": "code",
      "source": [
        "// run this to test if your notebook can execute Java codes\n",
        "System.out.println(\"Welcome to My World!\");"
      ],
      "metadata": {
        "id": "R1RbSCHcUwq6",
        "outputId": "0c623d0b-0f70-4dbe-fbe0-6bb31ff74d40",
        "colab": {
          "base_uri": "https://localhost:8080/"
        }
      },
      "execution_count": null,
      "outputs": [
        {
          "output_type": "stream",
          "name": "stdout",
          "text": [
            "Welcome to My World!\n"
          ]
        }
      ]
    },
    {
      "cell_type": "markdown",
      "source": [
        "`System` is a built-in Java class that contains useful members, such as `out`, which is short for \"output\". The `println()` method, short for \"print line\", is employed to display a value on the screen (or to a file).\n",
        "\n",
        "There's no need to be overly concerned about `System`, `out` and `println()` at this point. Just be aware that they are required in tandem to print information on the screen.\n",
        "\n",
        "We can add as many `println()` methods as you wish. It's worth noting that each method will introduce a new line."
      ],
      "metadata": {
        "id": "T1sBPLWGeml3"
      }
    },
    {
      "cell_type": "markdown",
      "source": [
        "### 3.0 Real-World Scenario\n",
        "\n",
        "If you have learnt Java programming before, you might be confused by the basic syntax rules presented in Section 3.0. You may have tried to execute the code `System.out.println(\"Hello World\");` successfully without a file. There is no class and the `main()` method is not required too.\n",
        "\n",
        "As explained in the previous section, the Jupyter notebook (hosted on Google Colab) is typically used for educational purposes. It enhances your learning experience by allowing you to read various code examples (with notes), modify the parameters, and run the code interactively in a web browser. This is particularly helpful in mastering the basic concepts of Java programming, especially for beginners.\n",
        "\n",
        "\n",
        "However, in the industry, it's unlikely you'll use Jupyter notebook exclusively. There, you might be required to develop a system or application in Java. You'll more commonly use an integrated development environment (IDE) such as [Apache NetBeans](https://netbeans.apache.org/download/index.html), [Eclipse](https://www.eclipse.org/downloads/) or [IntelliJ](https://www.jetbrains.com/idea/). In fact, we will use Apache NetBeans later in this module when we delve into coding Graphical User Interfaces (GUIs).\n",
        "\n",
        "When using an IDE, a simple line of code like `System.out.println(\"Hello World\");` will not suffice. You may have a file named `HelloWorldApp.java` which might look something like this:\n",
        "\n",
        "```\n",
        "public class HelloWorldApp {\n",
        "    public static void main(String[] args) {\n",
        "        System.out.println(\"Hello World!\");\n",
        "    }\n",
        "}\n",
        "\n",
        "```\n",
        "\n",
        "In the example above, the file name (`HelloWorldApp.java`) is identical to the class name (`HelloWorldApp`). The program starts in the main method: `public static void main (String [] args)`.\n",
        "\n",
        "Don't worry about the keywords before and after main. But, here are the details if you would like to explore further:\n",
        "\n",
        "**public**: This is the access modifier of the main method. It has to be public so that java runtime can execute this method. Remember, if you make any method non-public, it is not permitted to be executed by any programme due to access restrictions. Thus, the main method must be public.\n",
        "\n",
        "**static**: When java runtime starts, there is no object of the class present. That’s why the main method has to be static so the Java Virtual Machine (JVM) can load the class into memory and call the main method. If the main method won’t be static, JVM would not be able to call it because there is no object of the class is present.\n",
        "\n",
        "**void**: Java programming mandates that every method provide the return type. Java main method doesn’t return anything, that’s why it’s return type is void. This has been done to keep things simple because once the main method is finished executing, java program terminates. So there is no point in returning anything, there is nothing that can be done for the returned object by JVM. If we try to return something from the main method, it will give compilation error as an unexpected return value. For example, if we have the main method like below.\n",
        "\n",
        "**main**: This is the name of java main method. It’s fixed and when we start a java program, it looks for the main method.\n",
        "\n",
        "**String[] args**: The Java main method accepts a single argument of type String array. This is also referred to as Java command-line arguments."
      ],
      "metadata": {
        "id": "rt_wDlDXKJ6Q"
      }
    },
    {
      "cell_type": "markdown",
      "source": [
        "### 4.0 AI-assisted Java Programming\n",
        "\n",
        "You may be familiar with or have used ChatGPT, but what exactly is it? ChatGPT is a prime example of an LLM and has been developed by OpenAI. It's adept at performing an array of tasks, ranging from answering questions and aiding in writing, to offering coding assistance and more. An LLM, standing for Large Language Model, is a type of artificial intelligence (AI) model crafted to understand and generate human-like text. These models are trained on vast amounts of data to discern language patterns and to furnish contextually appropriate answers.\n",
        "\n",
        "A notable counterpart to ChatGPT is GitHub Copilot. This joint venture between GitHub and OpenAI harnesses the prowess of an LLM specifically for coding. Copilot proffers complete lines or blocks of code as you write, accelerating the coding process and assisting in identifying errors. This tool proves particularly beneficial for individuals venturing into new programming languages, providing instantaneous code suggestions rooted in best practices.\n",
        "\n",
        "### Benefits of LLM for Learning and Writing Code\n",
        "**Code Assistance:** LLMs offer real-time support whilst you draft code, proposing enhancements or rectifications.\n",
        "\n",
        "**Understanding Code Logic:** Should you grapple with comprehending a segment of code, an LLM can elucidate or dispel uncertainties.\n",
        "\n",
        "**Code Generation:** Given a prompt, LLMs have the capability to produce code snippets or even elaborate segments of code.\n",
        "\n",
        "**Debugging Assistance:** When besieged by a coding glitch, an LLM can proffer potential resolutions or spotlight questionable areas within your code.\n",
        "\n",
        "**Learning New Programming Concepts:** By consulting an LLM, aspirants can glean insights into a myriad of programming paradigms, thus easing their learning trajectory.\n",
        "\n",
        "Whilst LLMs are an exceptional asset in aiding learning and code composition, it's imperative to wield them with discernment. Always prioritise understanding the foundational tenets and logic. Lean on LLMs for direction, but make concerted efforts to fathom the crux of concepts autonomously. Over-reliance can stymie authentic comprehension. Endeavour to code both responsibly and astutely."
      ],
      "metadata": {
        "id": "fFBhLn6kbtI0"
      }
    },
    {
      "cell_type": "markdown",
      "source": [
        "### 5.0 To-do-List\n",
        "\n",
        "* Ensure that you can successfully run this notebook (Gmail, Google Colab).\n",
        "* Create a [GitHub](https://github.com/) account and sign up for the (GitHub Student Developer Pack](https://education.github.com/pack).\n",
        "* Sign up for a [ChatGPT](https://chat.openai.com/) account.\n",
        "* Run [Apache NetBeans IDE](https://netbeans.apache.org/download/index.html) on the lab's desktop. When you gain access to your own desktop or laptop, download and install Apache NetBeans IDE.\n",
        "\n",
        "Ensure all the above tasks are completed before our lab class next week."
      ],
      "metadata": {
        "id": "m1Dwx3B6d4yc"
      }
    }
  ]
}