{
  "nbformat": 4,
  "nbformat_minor": 0,
  "metadata": {
    "colab": {
      "provenance": [],
      "include_colab_link": true
    },
    "kernelspec": {
      "name": "java",
      "display_name": "java"
    },
    "language_info": {
      "name": "java"
    }
  },
  "cells": [
    {
      "cell_type": "markdown",
      "metadata": {
        "id": "view-in-github",
        "colab_type": "text"
      },
      "source": [
        "<a href=\"https://colab.research.google.com/github/hiran-savir/poo/blob/main/Java.ipynb\" target=\"_parent\"><img src=\"https://colab.research.google.com/assets/colab-badge.svg\" alt=\"Open In Colab\"/></a>"
      ]
    },
    {
      "cell_type": "code",
      "execution_count": null,
      "metadata": {
        "id": "ycRGxVCzUD0N",
        "outputId": "4923520a-a348-41b0-bd48-7b74db80adc9",
        "colab": {
          "base_uri": "https://localhost:8080/"
        }
      },
      "outputs": [
        {
          "output_type": "stream",
          "name": "stdout",
          "text": [
            "Installed java kernel into \"/usr/local/share/jupyter/kernels/java\"\n",
            "e2732061ad19c1afa4a33a58cb8f18a9-b6cff2bf09b6832344e576ea1e4731f0fb3df10c/install_ipc_proxy_kernel.py\n",
            "e2732061ad19c1afa4a33a58cb8f18a9-b6cff2bf09b6832344e576ea1e4731f0fb3df10c/ipc_proxy_kernel.py\n",
            "Moving java kernel from /usr/local/share/jupyter/kernels/java...\n",
            "Wrote modified kernel.json for java_tcp in /usr/local/share/jupyter/kernels/java_tcp/kernel.json\n",
            "Installing the proxy kernel in place of java in /usr/local/share/jupyter/kernels/java\n",
            "Installed proxy kernelspec: {\"argv\": [\"/usr/bin/python3\", \"/usr/local/share/jupyter/kernels/java/ipc_proxy_kernel.py\", \"{connection_file}\", \"--kernel=java_tcp\"], \"env\": {}, \"display_name\": \"Java\", \"language\": \"java\", \"interrupt_mode\": \"message\", \"metadata\": {}}\n",
            "Proxy kernel installed. Go to 'Runtime > Change runtime type' and select 'java'\n"
          ]
        },
        {
          "output_type": "stream",
          "name": "stderr",
          "text": [
            "/content/install.py:164: DeprecationWarning: replace is ignored. Installing a kernelspec always replaces an existing installation\n",
            "  install_dest = KernelSpecManager().install_kernel_spec(\n"
          ]
        }
      ],
      "source": [
        "%%sh\n",
        "# Install java kernel\n",
        "wget -q https://github.com/SpencerPark/IJava/releases/download/v1.3.0/ijava-1.3.0.zip\n",
        "unzip -q ijava-1.3.0.zip\n",
        "python install.py\n",
        "\n",
        "# Install proxy for the java kernel\n",
        "wget -qO- https://gist.github.com/SpencerPark/e2732061ad19c1afa4a33a58cb8f18a9/archive/b6cff2bf09b6832344e576ea1e4731f0fb3df10c.tar.gz | tar xvz --strip-components=1\n",
        "python install_ipc_proxy_kernel.py --kernel=java --implementation=ipc_proxy_kernel.py"
      ]
    },
    {
      "cell_type": "code",
      "source": [
        "// run this to test if your notebook can execute Java codes\n",
        "System.out.println(\"Welcome to My World!!!\");"
      ],
      "metadata": {
        "id": "R1RbSCHcUwq6",
        "outputId": "8f4992ad-2011-4056-eb0a-e3ec7ea6b218",
        "colab": {
          "base_uri": "https://localhost:8080/"
        }
      },
      "execution_count": 85,
      "outputs": [
        {
          "output_type": "stream",
          "name": "stdout",
          "text": [
            "Welcome to My World!!!\n"
          ]
        }
      ]
    },
    {
      "cell_type": "code",
      "source": [
        "public class Exemplo\n",
        "{\n",
        "    private char vCaracter1 = 34;\n",
        "    private char vCaracter2 = 56;\n",
        "    private char vCaracter3 = 79;\n",
        "\n",
        "    public void soma()\n",
        "    {\n",
        "        System.out.println(vCaracter1+\"\"+vCaracter2+\"\"+vCaracter3);\n",
        "    }\n",
        "\n",
        "\n",
        "    public static void main(String args[])\n",
        "    {\n",
        "      Exemplo ex = new Exemplo();\n",
        "      ex.soma();\n",
        "    }\n",
        "}"
      ],
      "metadata": {
        "id": "xYsNUDHqXskM"
      },
      "execution_count": 115,
      "outputs": []
    },
    {
      "cell_type": "code",
      "source": [
        "private char vCaracter1 = 34;\n",
        "private char vCaracter2 = 56;\n",
        "private char vCaracter3 = 79;\n",
        "System.out.println(vCaracter1+\"\"+vCaracter2+\"\"+vCaracter3);"
      ],
      "metadata": {
        "colab": {
          "base_uri": "https://localhost:8080/"
        },
        "id": "T-7Ngyxua8qt",
        "outputId": "be15ffb3-9ab3-4511-b7c5-8777a19c8bc9"
      },
      "execution_count": 118,
      "outputs": [
        {
          "output_type": "stream",
          "name": "stdout",
          "text": [
            "\"8O\n"
          ]
        }
      ]
    },
    {
      "cell_type": "code",
      "source": [
        "char[] aNome = {'H','i','r','a','n'};\n",
        "System.out.println(aNome);\n",
        "System.out.println(aNome[0]);\n",
        "System.out.println(aNome[1]);\n",
        "System.out.println(aNome[6]);"
      ],
      "metadata": {
        "colab": {
          "base_uri": "https://localhost:8080/",
          "height": 141
        },
        "id": "fo2XSY68bMCD",
        "outputId": "09240bd5-3da5-4169-ce8b-af7f549a7de7"
      },
      "execution_count": 170,
      "outputs": [
        {
          "output_type": "stream",
          "name": "stdout",
          "text": [
            "Hiran\n",
            "H\n",
            "i\n"
          ]
        },
        {
          "output_type": "error",
          "ename": "EvalException",
          "evalue": "Index 6 out of bounds for length 5",
          "traceback": [
            "\u001b[1m\u001b[31m---------------------------------------------------------------------------\u001b[0m",
            "\u001b[1m\u001b[31mjava.lang.ArrayIndexOutOfBoundsException: Index 6 out of bounds for length 5\u001b[0m",
            "\u001b[1m\u001b[31m\tat .(#59:1)\u001b[0m"
          ]
        }
      ]
    },
    {
      "cell_type": "code",
      "source": [
        "// length\n",
        "System.out.println(aNome.length);"
      ],
      "metadata": {
        "colab": {
          "base_uri": "https://localhost:8080/"
        },
        "id": "YExupI8Zc4mY",
        "outputId": "05a8ce9d-a0fd-4688-c331-413150919705"
      },
      "execution_count": 154,
      "outputs": [
        {
          "output_type": "stream",
          "name": "stdout",
          "text": [
            "5\n"
          ]
        }
      ]
    },
    {
      "cell_type": "code",
      "source": [
        "//replace\n",
        "String texto = \"Olá, Mundo!\";\n",
        "\n",
        "// Substituindo uma substring por outra\n",
        "String novoTexto = texto.replace(\"Mundo\", \"Java\");\n",
        "\n",
        "// Exibindo o resultado\n",
        "System.out.println(\"Texto original: \" + texto);\n",
        "System.out.println(\"Texto após substituição: \" + novoTexto);"
      ],
      "metadata": {
        "colab": {
          "base_uri": "https://localhost:8080/"
        },
        "id": "Fz9DJuhWdUn6",
        "outputId": "5a49ec5c-6267-444e-8db0-c88abf5a4ed0"
      },
      "execution_count": 173,
      "outputs": [
        {
          "output_type": "stream",
          "name": "stdout",
          "text": [
            "Texto original: Olá, Mundo!\n",
            "Texto após substituição: Olá, Java!\n"
          ]
        }
      ]
    },
    {
      "cell_type": "code",
      "source": [],
      "metadata": {
        "id": "jpISp_waepVB"
      },
      "execution_count": null,
      "outputs": []
    }
  ]
}